{
 "cells": [
  {
   "cell_type": "code",
   "execution_count": 1,
   "id": "e8f5ee95",
   "metadata": {},
   "outputs": [],
   "source": [
    "import torch\n",
    "from torch import nn \n",
    "import torch.functional as F\n",
    "import math"
   ]
  },
  {
   "cell_type": "code",
   "execution_count": 2,
   "id": "ba92b92e",
   "metadata": {},
   "outputs": [
    {
     "name": "stdout",
     "output_type": "stream",
     "text": [
      "torch.Size([16, 64, 512])\n"
     ]
    }
   ],
   "source": [
    "X = torch.randn(16,64,512)\n",
    "print(X.shape)"
   ]
  },
  {
   "cell_type": "code",
   "execution_count": 3,
   "id": "d55a2422",
   "metadata": {},
   "outputs": [],
   "source": [
    "d_model = 512\n",
    "n_head = 8"
   ]
  },
  {
   "cell_type": "code",
   "execution_count": 4,
   "id": "ec288013",
   "metadata": {},
   "outputs": [
    {
     "name": "stdout",
     "output_type": "stream",
     "text": [
      "torch.Size([16, 64, 512])\n"
     ]
    }
   ],
   "source": [
    "class multi_head_attention(nn.Module):\n",
    "    def __init__(self, d_model, n_head):\n",
    "        # 调用父类构造函数\n",
    "        super(multi_head_attention, self).__init__()\n",
    "        \n",
    "        # 保存注意力头的数量和模型的维度\n",
    "        self.n_head = n_head\n",
    "        self.d_model = d_model\n",
    "        \n",
    "        # 定义查询（Q）、键（K）、值（V）的线性变换层\n",
    "        self.w_q = nn.Linear(d_model, d_model)  # 输入d_model维度，输出d_model维度\n",
    "        self.w_k = nn.Linear(d_model, d_model)  # 输入d_model维度，输出d_model维度\n",
    "        self.w_v = nn.Linear(d_model, d_model)  # 输入d_model维度，输出d_model维度\n",
    "        self.w_o = nn.Linear(d_model, d_model)  # 输出线性变换层\n",
    "        \n",
    "        # 定义softmax函数，用于计算注意力得分的归一化\n",
    "        self.softmax = nn.Softmax(dim=-1)  # softmax会在最后一维（dim=-1）上操作\n",
    "        \n",
    "    def forward(self, q, k, v):\n",
    "        # 获取输入查询（q），键（k），值（v）的形状\n",
    "        B, T, D = q.shape  # B: batch size, T: sequence length, D: feature dimension (d_model)\n",
    "        \n",
    "        # 每个注意力头的维度\n",
    "        n_d = self.d_model // self.n_head  # 每个头的维度（d_model / n_head）\n",
    "        \n",
    "        # 将输入的q、k、v通过各自的线性变换层映射到新的空间\n",
    "        q, k, v = self.w_q(q), self.w_k(k), self.w_v(v)\n",
    "        \n",
    "        # 将q, k, v按头数进行拆分（reshape），并转置使得各头的计算可以并行\n",
    "        # q, k, v的形状变为 (B, T, n_head, n_d)，然后转置变为 (B, n_head, T, n_d)\n",
    "        q = q.view(B, T, self.n_head, n_d).transpose(1, 2)  # (B, n_head, T, n_d)\n",
    "        k = k.view(B, T, self.n_head, n_d).transpose(1, 2)  # (B, n_head, T, n_d)\n",
    "        v = v.view(B, T, self.n_head, n_d).transpose(1, 2)  # (B, n_head, T, n_d)\n",
    "\n",
    "        # 计算缩放点积注意力（scaled dot-product attention）\n",
    "        score = q @ k.transpose(2, 3) / math.sqrt(n_d)  # (B, n_head, T, T)\n",
    "        # score是查询q与键k之间的相似度矩阵，进行缩放以防止数值过大\n",
    "        \n",
    "        # 生成一个下三角矩阵，用于实现自注意力中的\"masking\"，屏蔽未来的信息\n",
    "        mask = torch.tril(torch.ones(T, T, dtype=bool))  # 生成一个下三角的布尔矩阵\n",
    "        \n",
    "        # 使用mask进行屏蔽，mask为0的位置会被填充为一个非常大的负值（-10000）\n",
    "        score = score.masked_fill(mask == 0, -10000)  # 把mask == 0的位置置为-10000\n",
    "        \n",
    "        # 对score进行softmax归一化处理，得到注意力权重\n",
    "        score = self.softmax(score)  # (B, n_head, T, T)\n",
    "\n",
    "        # 将注意力权重与值（v）相乘，得到加权后的值\n",
    "        score = score @ v  # (B, n_head, T, n_d)\n",
    "\n",
    "        # 将多个头的结果合并（concatenate），并通过线性层进行映射\n",
    "        # 首先将score的维度变为 (B, T, n_head * n_d)，然后通过w_o进行线性变换\n",
    "        x_concate = score.transpose(1, 2).contiguous().view(B, T, self.d_model)  # (B, T, d_model)\n",
    "        x_output = self.w_o(x_concate)  # (B, T, d_model)\n",
    "\n",
    "        # 返回最终的输出\n",
    "        return x_output\n",
    "\n",
    "        \n",
    "attn = multi_head_attention(d_model, n_head)\n",
    "Y = attn(X,X,X)\n",
    "print(Y.shape)"
   ]
  },
  {
   "cell_type": "code",
   "execution_count": 5,
   "id": "ae6c400a",
   "metadata": {},
   "outputs": [
    {
     "name": "stdout",
     "output_type": "stream",
     "text": [
      "d_model:  512\n",
      "ln gamma: torch.Size([512])\n",
      "ln beta: torch.Size([512])\n",
      "torch.Size([2, 5, 512])\n"
     ]
    }
   ],
   "source": [
    "# layer norm\n",
    "class layer_norm(nn.Module):\n",
    "    def __init__(self, d_model, eps = 1e-12):\n",
    "        super(layer_norm, self).__init__()\n",
    "        \n",
    "        self.gamma = nn.Parameter(torch.ones(d_model))\n",
    "        self.beta = nn.Parameter(torch.zeros(d_model))\n",
    "        self.eps = eps\n",
    "        \n",
    "    def forward(self, x):\n",
    "        mean = x.mean(-1, keepdim = True)\n",
    "        var = x.var(-1, unbiased=False, keepdim = True)\n",
    "        out = (x - mean) / torch.sqrt(var + self.eps)\n",
    "        out = self.gamma * out + self.beta\n",
    "        return out\n",
    "    \n",
    "d_model = 512\n",
    "X = torch.randn(2,5,512) # 2句话, 5个token，词向量512\n",
    "ln = layer_norm(d_model)\n",
    "print(\"d_model: \", d_model)\n",
    "print(f\"ln gamma: {ln.gamma.shape}\")\n",
    "print(f\"ln beta: {ln.beta.shape}\")\n",
    "Y_ln = ln(X)\n",
    "print(Y_ln.shape)"
   ]
  },
  {
   "cell_type": "code",
   "execution_count": null,
   "id": "e8e8e2b5",
   "metadata": {},
   "outputs": [],
   "source": []
  },
  {
   "cell_type": "code",
   "execution_count": null,
   "id": "8b6765f9",
   "metadata": {},
   "outputs": [],
   "source": []
  }
 ],
 "metadata": {
  "kernelspec": {
   "display_name": "Python 3",
   "language": "python",
   "name": "python3"
  },
  "language_info": {
   "codemirror_mode": {
    "name": "ipython",
    "version": 3
   },
   "file_extension": ".py",
   "mimetype": "text/x-python",
   "name": "python",
   "nbconvert_exporter": "python",
   "pygments_lexer": "ipython3",
   "version": "3.11.0"
  },
  "toc": {
   "base_numbering": 1,
   "nav_menu": {},
   "number_sections": true,
   "sideBar": true,
   "skip_h1_title": false,
   "title_cell": "Table of Contents",
   "title_sidebar": "Contents",
   "toc_cell": false,
   "toc_position": {},
   "toc_section_display": true,
   "toc_window_display": false
  }
 },
 "nbformat": 4,
 "nbformat_minor": 5
}
