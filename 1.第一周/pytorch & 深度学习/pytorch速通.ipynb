{
 "cells": [
  {
   "cell_type": "markdown",
   "id": "f5eeb791-52b9-4075-8c5c-020c766b9706",
   "metadata": {},
   "source": [
    "# 1. 张量（Tensor）基础\n",
    "PyTorch 的核心数据结构是 张量（Tensor），类似于 NumPy 的数组，但支持 GPU 加速。"
   ]
  },
  {
   "cell_type": "markdown",
   "id": "35b3d680-2d31-4a36-9c7f-57129862383d",
   "metadata": {},
   "source": [
    "**创建张量**"
   ]
  },
  {
   "cell_type": "code",
   "execution_count": 3,
   "id": "8ae4227f-5993-4026-8458-aee62f1570f0",
   "metadata": {},
   "outputs": [],
   "source": [
    "import torch\n",
    "\n",
    "# 创建未初始化的张量\n",
    "x = torch.empty(2, 3)  # 2行3列的空张量\n",
    "\n",
    "# 创建随机张量（范围 [0, 1)）\n",
    "x = torch.rand(2, 3)  \n",
    "\n",
    "# 创建全零张量\n",
    "x = torch.zeros(2, 3, dtype=torch.long)  # 指定数据类型为长整型\n",
    "\n",
    "# 从 Python 列表创建\n",
    "x = torch.tensor([1, 2, 3])  \n",
    "\n",
    "# 从 NumPy 数组创建\n",
    "import numpy as np\n",
    "np_array = np.array([4, 5, 6])\n",
    "x = torch.from_numpy(np_array)"
   ]
  },
  {
   "cell_type": "markdown",
   "id": "216953f8-8518-4672-9eb4-db0baf9e0d7f",
   "metadata": {},
   "source": [
    "**张量属性**"
   ]
  },
  {
   "cell_type": "code",
   "execution_count": 4,
   "id": "914415b4-11f8-445b-a839-2f9b32927953",
   "metadata": {},
   "outputs": [
    {
     "name": "stdout",
     "output_type": "stream",
     "text": [
      "torch.Size([3])\n",
      "torch.int64\n",
      "cpu\n"
     ]
    }
   ],
   "source": [
    "print(x.shape)   # 形状\n",
    "print(x.dtype)   # 数据类型\n",
    "print(x.device)  # 所在设备（CPU/GPU）"
   ]
  },
  {
   "cell_type": "markdown",
   "id": "5f9100a0-3ede-47d9-8c3f-90955c8193eb",
   "metadata": {},
   "source": [
    "**张量运算**"
   ]
  },
  {
   "cell_type": "code",
   "execution_count": 7,
   "id": "f7a64dcd-2ee3-4c49-8154-41c53a56f220",
   "metadata": {},
   "outputs": [
    {
     "name": "stdout",
     "output_type": "stream",
     "text": [
      "tensor([[ 8, 10, 12],\n",
      "        [14, 16, 18]])\n",
      "tensor([[ 8, 10, 12],\n",
      "        [14, 16, 18]])\n",
      "tensor([2, 5])\n"
     ]
    }
   ],
   "source": [
    "import torch\n",
    "\n",
    "# 创建 2x3 的张量 x 和 y\n",
    "x = torch.tensor([[1, 2, 3], [4, 5, 6]])\n",
    "y = torch.tensor([[7, 8, 9], [10, 11, 12]])\n",
    "z = x + y        # 等价于 torch.add(x, y)\n",
    "print(z)\n",
    "torch.add(x, y, out=z)  # 指定输出张量\n",
    "print(z)\n",
    "\n",
    "\n",
    "# 索引（与 NumPy 类似）\n",
    "print(x[:, 1])   # 所有行的第1列\n",
    "\n",
    "# 调整形状\n",
    "x = x.view(6)    # 变为 6 元素的一维张量\n",
    "x = x.reshape(2, 3)  # 调整形状为 2x3\n",
    "\n",
    "# 转换为 NumPy\n",
    "np_array = x.numpy()  # 若 x 在 CPU 上"
   ]
  },
  {
   "cell_type": "code",
   "execution_count": null,
   "id": "49c89de8-cf1c-4804-848e-905f666cf894",
   "metadata": {},
   "outputs": [],
   "source": []
  },
  {
   "cell_type": "markdown",
   "id": "e15dc958-754c-41d2-bacc-21f6d95fbf4c",
   "metadata": {},
   "source": [
    "## 2. 自动求导（Autograd）"
   ]
  },
  {
   "cell_type": "code",
   "execution_count": 7,
   "id": "edd7cc27-926a-45a9-9325-f76e0e1b058e",
   "metadata": {},
   "outputs": [
    {
     "name": "stdout",
     "output_type": "stream",
     "text": [
      "tensor(7.)\n"
     ]
    }
   ],
   "source": [
    "x = torch.tensor(2.0, requires_grad=True)\n",
    "y = x ** 2 + 3 * x + 1\n",
    "y.backward()     # 计算梯度\n",
    "print(x.grad)    # 输出 dy/dx = 2x + 3 = 7.0"
   ]
  },
  {
   "cell_type": "code",
   "execution_count": 8,
   "id": "123c9d55-90d5-4bba-9374-39f45189d149",
   "metadata": {},
   "outputs": [],
   "source": [
    "with torch.no_grad():\n",
    "    y = x * 2    # 此操作不记录梯度"
   ]
  },
  {
   "cell_type": "code",
   "execution_count": null,
   "id": "d9c434b2-bba9-4133-8b88-3d2ef53bce06",
   "metadata": {},
   "outputs": [],
   "source": []
  },
  {
   "cell_type": "markdown",
   "id": "16e9170c-99af-4668-9161-19b3e82b0071",
   "metadata": {},
   "source": [
    "## 3. 模型构建（nn.Module）"
   ]
  },
  {
   "cell_type": "markdown",
   "id": "f70331a0-6738-4ef6-ad79-12b2f6e79c57",
   "metadata": {},
   "source": [
    "**定义模型**"
   ]
  },
  {
   "cell_type": "code",
   "execution_count": 9,
   "id": "07599092-5f60-4ad8-842b-fcba59da9337",
   "metadata": {},
   "outputs": [],
   "source": [
    "import torch.nn as nn\n",
    "\n",
    "class SimpleNet(nn.Module):\n",
    "    def __init__(self):\n",
    "        super(SimpleNet, self).__init__()\n",
    "        self.fc1 = nn.Linear(784, 256)  # 输入层到隐藏层\n",
    "        self.fc2 = nn.Linear(256, 10)   # 隐藏层到输出层\n",
    "\n",
    "    def forward(self, x):\n",
    "        x = torch.relu(self.fc1(x))\n",
    "        x = self.fc2(x)\n",
    "        return x\n",
    "\n",
    "model = SimpleNet()"
   ]
  },
  {
   "cell_type": "markdown",
   "id": "eece6a0f-4a2b-430c-aec3-a7cbc39c468e",
   "metadata": {},
   "source": [
    "**模型参数与设备转移**"
   ]
  },
  {
   "cell_type": "code",
   "execution_count": 12,
   "id": "2ec6d0a9-9247-43c1-8c9f-69510ac7f81b",
   "metadata": {},
   "outputs": [
    {
     "data": {
      "text/plain": [
       "SimpleNet(\n",
       "  (fc1): Linear(in_features=784, out_features=256, bias=True)\n",
       "  (fc2): Linear(in_features=256, out_features=10, bias=True)\n",
       ")"
      ]
     },
     "execution_count": 12,
     "metadata": {},
     "output_type": "execute_result"
    }
   ],
   "source": [
    "device = torch.device(\"cuda\" if torch.cuda.is_available() else \"cpu\")\n",
    "model.to(device)  # 将模型移动到 GPU（如果可用）"
   ]
  },
  {
   "cell_type": "code",
   "execution_count": null,
   "id": "a30b987b-b635-40d5-9217-53b122b92e88",
   "metadata": {},
   "outputs": [],
   "source": []
  },
  {
   "cell_type": "markdown",
   "id": "09bb1c00-2db1-4fb7-9ba5-caf7bd56c694",
   "metadata": {},
   "source": [
    "## 4.数据处理 "
   ]
  },
  {
   "cell_type": "code",
   "execution_count": 18,
   "id": "f25698b6-233a-496e-9ef3-4d03c15fecde",
   "metadata": {},
   "outputs": [
    {
     "name": "stdout",
     "output_type": "stream",
     "text": [
      "[[tensor([3, 5, 1]), tensor([4, 6, 2])], tensor([1, 0, 0])]\n"
     ]
    }
   ],
   "source": [
    "from torch.utils.data import Dataset, DataLoader\n",
    "\n",
    "# 假设 data 和 labels 是你的数据集和标签\n",
    "data = [[1, 2], [3, 4], [5, 6]]  # 示例数据\n",
    "labels = [0, 1, 0]  # 示例标签\n",
    "\n",
    "class CustomDataset(Dataset):\n",
    "    def __init__(self, data, labels):\n",
    "        self.data = data\n",
    "        self.labels = labels\n",
    "\n",
    "    def __len__(self):\n",
    "        return len(self.data)\n",
    "\n",
    "    def __getitem__(self, idx):\n",
    "        return self.data[idx], self.labels[idx]\n",
    "\n",
    "# 创建数据集实例\n",
    "dataset = CustomDataset(data, labels)\n",
    "\n",
    "# 创建 DataLoader 实例\n",
    "dataloader = DataLoader(dataset, batch_size=32, shuffle=True)\n",
    "\n",
    "# 测试 DataLoader\n",
    "for batch in dataloader:\n",
    "    print(batch)"
   ]
  },
  {
   "cell_type": "code",
   "execution_count": null,
   "id": "3a2b9028-fd04-4ade-b7f3-005d25dcade7",
   "metadata": {},
   "outputs": [],
   "source": []
  },
  {
   "cell_type": "markdown",
   "id": "3fece2e3-f4a1-4feb-bdee-aa5d56a529b9",
   "metadata": {},
   "source": [
    "## 5.训练"
   ]
  },
  {
   "cell_type": "code",
   "execution_count": 20,
   "id": "3d4cc688-a773-49e0-b92f-2942c45ca520",
   "metadata": {},
   "outputs": [],
   "source": [
    "criterion = nn.CrossEntropyLoss()  # 交叉熵损失（分类任务）\n",
    "optimizer = torch.optim.Adam(model.parameters(), lr=0.001)  # Adam 优化器"
   ]
  },
  {
   "cell_type": "code",
   "execution_count": 24,
   "id": "1085938b-cf81-422d-b687-f459870030f9",
   "metadata": {},
   "outputs": [
    {
     "name": "stdout",
     "output_type": "stream",
     "text": [
      "Epoch [1/10], Loss: 43.7551\n",
      "Epoch [2/10], Loss: 5.2969\n",
      "Epoch [3/10], Loss: 5.1233\n",
      "Epoch [4/10], Loss: 1.1414\n",
      "Epoch [5/10], Loss: 1.5878\n",
      "Epoch [6/10], Loss: 0.5372\n",
      "Epoch [7/10], Loss: 0.6586\n",
      "Epoch [8/10], Loss: 0.3186\n",
      "Epoch [9/10], Loss: 0.0550\n",
      "Epoch [10/10], Loss: 0.0074\n",
      "Predicted output for input 5.0: 9.6314\n"
     ]
    }
   ],
   "source": [
    "import torch\n",
    "import torch.nn as nn\n",
    "import torch.optim as optim\n",
    "from torch.utils.data import Dataset, DataLoader\n",
    "\n",
    "# 假设 data 和 labels 是你的数据集和标签\n",
    "data = torch.tensor([[1.0], [2.0], [3.0], [4.0]], dtype=torch.float32)  # 示例数据，转换为张量\n",
    "labels = torch.tensor([[2.0], [4.0], [6.0], [8.0]], dtype=torch.float32)  # 示例标签，转换为张量\n",
    "\n",
    "# 自定义数据集\n",
    "class CustomDataset(Dataset):\n",
    "    def __init__(self, data, labels):\n",
    "        self.data = data\n",
    "        self.labels = labels\n",
    "\n",
    "    def __len__(self):\n",
    "        return len(self.data)\n",
    "\n",
    "    def __getitem__(self, idx):\n",
    "        return self.data[idx], self.labels[idx]  # 返回张量\n",
    "\n",
    "# 创建数据集实例\n",
    "dataset = CustomDataset(data, labels)\n",
    "\n",
    "# 创建 DataLoader 实例\n",
    "dataloader = DataLoader(dataset, batch_size=2, shuffle=True)\n",
    "\n",
    "# 定义一个非常简单的线性模型\n",
    "class TinyModel(nn.Module):\n",
    "    def __init__(self):\n",
    "        super(TinyModel, self).__init__()\n",
    "        self.linear = nn.Linear(1, 1)  # 输入维度 1，输出维度 1\n",
    "\n",
    "    def forward(self, x):\n",
    "        return self.linear(x)\n",
    "\n",
    "# 定义设备\n",
    "device = torch.device(\"cuda\" if torch.cuda.is_available() else \"cpu\")\n",
    "\n",
    "# 初始化模型、损失函数和优化器\n",
    "model = TinyModel().to(device)  # 将模型移动到设备\n",
    "criterion = nn.MSELoss()  # 均方误差损失函数\n",
    "optimizer = optim.SGD(model.parameters(), lr=0.01)  # 随机梯度下降优化器\n",
    "\n",
    "# 训练循环\n",
    "for epoch in range(10):\n",
    "    model.train()  # 设置为训练模式\n",
    "    for inputs, labels in dataloader:\n",
    "        inputs, labels = inputs.to(device), labels.to(device)  # 将数据移动到设备\n",
    "\n",
    "        # 前向传播\n",
    "        outputs = model(inputs)\n",
    "        loss = criterion(outputs, labels)\n",
    "\n",
    "        # 反向传播与优化\n",
    "        optimizer.zero_grad()  # 清空梯度\n",
    "        loss.backward()        # 计算梯度\n",
    "        optimizer.step()       # 更新参数\n",
    "\n",
    "    print(f\"Epoch [{epoch+1}/10], Loss: {loss.item():.4f}\")\n",
    "\n",
    "# 测试模型\n",
    "model.eval()  # 设置为评估模式\n",
    "with torch.no_grad():\n",
    "    test_input = torch.tensor([[5.0]], dtype=torch.float32).to(device)\n",
    "    predicted_output = model(test_input)\n",
    "    print(f\"Predicted output for input 5.0: {predicted_output.item():.4f}\")"
   ]
  },
  {
   "cell_type": "code",
   "execution_count": null,
   "id": "e91c23fd-38ef-4987-a592-e2dcdb55e476",
   "metadata": {},
   "outputs": [],
   "source": []
  },
  {
   "cell_type": "code",
   "execution_count": null,
   "id": "393ac05f-8eac-4698-99b9-f37ecaf8ba92",
   "metadata": {},
   "outputs": [],
   "source": []
  },
  {
   "cell_type": "code",
   "execution_count": null,
   "id": "50d6c18a-fd7f-48b0-a875-a38f5bbd4bbe",
   "metadata": {},
   "outputs": [],
   "source": []
  },
  {
   "cell_type": "code",
   "execution_count": null,
   "id": "f5680999-a18e-470f-bde1-65ae1bcd6eaf",
   "metadata": {},
   "outputs": [],
   "source": []
  },
  {
   "cell_type": "code",
   "execution_count": null,
   "id": "11cdfb57-ecbc-4b4e-b168-ab164aaae794",
   "metadata": {},
   "outputs": [],
   "source": []
  }
 ],
 "metadata": {
  "kernelspec": {
   "display_name": "Python 3 (ipykernel)",
   "language": "python",
   "name": "python3"
  },
  "language_info": {
   "codemirror_mode": {
    "name": "ipython",
    "version": 3
   },
   "file_extension": ".py",
   "mimetype": "text/x-python",
   "name": "python",
   "nbconvert_exporter": "python",
   "pygments_lexer": "ipython3",
   "version": "3.11.5"
  }
 },
 "nbformat": 4,
 "nbformat_minor": 5
}
